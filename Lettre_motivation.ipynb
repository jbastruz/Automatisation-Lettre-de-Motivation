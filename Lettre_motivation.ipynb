{
 "cells": [
  {
   "cell_type": "markdown",
   "metadata": {},
   "source": [
    "<h1 align=\"center\">Automatic Cover Letter Generation</h1>\n",
    "\n",
    "___\n",
    "\n",
    "This document aims to prove the feasibility of setting up an automated tool for generating cover letters based on a Linkedin job offer link and the user's CV description. (WIP)\n",
    "\n",
    "# Loading Packages"
   ]
  },
  {
   "cell_type": "code",
   "execution_count": 13,
   "metadata": {},
   "outputs": [],
   "source": [
    "from bs4 import BeautifulSoup\n",
    "import requests\n",
    "import json\n",
    "import os\n",
    "from mistralai.client import MistralClient# Import the MistralClient from the mistralai.client module\n",
    "from mistralai.models.chat_completion import ChatMessage # Import the ChatMessage from the mistralai.models.chat_completion module\n",
    "from dotenv import load_dotenv"
   ]
  },
  {
   "cell_type": "markdown",
   "metadata": {},
   "source": [
    "# Extracting Data from Linkedin Website"
   ]
  },
  {
   "cell_type": "code",
   "execution_count": 3,
   "metadata": {},
   "outputs": [],
   "source": [
    "test = requests.get('https://www.linkedin.com/jobs/search?keywords=Analyste+De+Donn%C3%A9es&location=Gen%C3%A8ve%2C+Gen%C3%A8ve%2C+Suisse&geoId=106633403&trk=public_jobs_jobs-search-bar_search-submit')\n",
    "content = test.text\n",
    "\n",
    "soup = BeautifulSoup(content, 'html.parser')"
   ]
  },
  {
   "cell_type": "markdown",
   "metadata": {},
   "source": [
    "# List of Job Offers"
   ]
  },
  {
   "cell_type": "code",
   "execution_count": 4,
   "metadata": {},
   "outputs": [
    {
     "name": "stdout",
     "output_type": "stream",
     "text": [
      "https://fr.linkedin.com/jobs/view/analyste-de-donn%C3%A9es-pour-enseigner-les-math%C3%A9matiques-h-f-at-voscours-fr-3858720998?position=2&pageNum=0&refId=vVo9%2B2gTiilAm9Otm4rl%2BA%3D%3D&trackingId=bAg7saHsQUGPkBtJCHfVxQ%3D%3D&trk=public_jobs_jserp-result_search-card\n"
     ]
    }
   ],
   "source": [
    "list = soup.find_all('a', {'class':'base-card__full-link absolute top-0 right-0 bottom-0 left-0 p-0 z-[2]'})\n",
    "\n",
    "for i, item in enumerate(list):\n",
    "    list[i] = item.get('href')\n",
    "print(list[1])"
   ]
  },
  {
   "cell_type": "markdown",
   "metadata": {},
   "source": [
    "Now that we have the list of links, we will retrieve the job description."
   ]
  },
  {
   "cell_type": "code",
   "execution_count": 7,
   "metadata": {},
   "outputs": [],
   "source": [
    "description = []\n",
    "\n",
    "for i, link in enumerate(list):\n",
    "    Job = requests.get(link)\n",
    "    content = Job.text\n",
    "    description.append(BeautifulSoup(content, 'html.parser').find('div', {'class':'show-more-less-html__markup'}))"
   ]
  },
  {
   "cell_type": "markdown",
   "metadata": {},
   "source": [
    "Now that we have the list of descriptions, we will start by listing the expected skills for each job."
   ]
  },
  {
   "cell_type": "code",
   "execution_count": 20,
   "metadata": {},
   "outputs": [],
   "source": [
    "load_dotenv()\n",
    "model = \"mistral-large-latest\"\n",
    "api_key= os.getenv('MISTRAL_API_KEY')\n",
    "client = MistralClient(api_key=api_key)\n",
    "responses = []\n",
    "\n",
    "for job in description[:3]:\n",
    "\n",
    "    messages = [\n",
    "        ChatMessage(role=\"system\", content=\"tu es un programme qui liste les compétences à avoir pour répondre à une offre de travail, sur base de l'input que l'on te fournis, contenant la liste des comptétences à avoir, et tu ne répond qu'en bullet point\"),\n",
    "        ChatMessage(role=\"user\", content=job.text.strip()),\n",
    "    ]\n",
    "    responses.append(client.chat(model=model, messages=messages))\n"
   ]
  },
  {
   "cell_type": "code",
   "execution_count": 33,
   "metadata": {},
   "outputs": [
    {
     "name": "stdout",
     "output_type": "stream",
     "text": [
      "- Formation supérieure ou universitaire dans le domaine de la data\n",
      "- Expérience réussie d'au moins 3 ans dans le domaine de l'analyse de données\n",
      "- Connaissance du domaine RH et des outils informatiques liés, un atout\n",
      "- Maîtrise des outils informatiques usuels et en particulier SAP, Tableau, Excel, outils d’extraction de données (Tableau Prep)\n",
      "- Sens aigu de la confidentialité et de la discrétion\n",
      "- Capacité à gérer les priorités avec une approche méthodologique\n",
      "- Esprit d’analyse et de synthèse\n",
      "- Bonne communication, à l'écoute et orienté clients\n",
      "- Capacité à élaborer et mettre en place une feuille de route pour le reporting RH\n",
      "- Capacité à collaborer avec les équipes métier pour comprendre leurs besoins et les traduire en indicateurs clés\n",
      "- Capacité à collaborer avec la division Informatique pour automatiser les extractions de données et enrichir les sources de données\n",
      "- Capacité à participer aux demandes internes et externes liées aux statistiques et reporting sur les données du personnel\n",
      "- Capacité à développer des tableaux de bord, des rapports et des visuels clairs et pertinents pour présenter les résultats d’analyse\n",
      "- Capacité à contribuer à l’amélioration continue des processus et des outils en lien avec le reporting de données.\n"
     ]
    }
   ],
   "source": [
    "print(responses[0].choices[0].message.content)"
   ]
  },
  {
   "cell_type": "markdown",
   "metadata": {},
   "source": [
    "# Cover Letter Generation"
   ]
  },
  {
   "cell_type": "code",
   "execution_count": 44,
   "metadata": {},
   "outputs": [
    {
     "name": "stdout",
     "output_type": "stream",
     "text": [
      "Madame, Monsieur,\n",
      "\n",
      "C'est avec un grand intérêt que je vous soumets ma candidature pour le poste de Data Analyste au sein de votre entreprise. Titulaire d'un Master en Financial Risk Engineering de l'ISFA et d'un Bachelor en Applied Mathematics in Social Sciences de l'Université Claude Bernard Lyon 1, j'ai acquis une solide formation dans le domaine de la data.\n",
      "\n",
      "Mon expérience professionnelle de plus de trois ans en tant que Data Scientist / Data Analyst chez EXSOLVAE et en tant qu'Actuarial Analyst chez Ethias Insurance m'a permis de développer une expertise dans l'analyse de données. Durant ces expériences, j'ai eu l'occasion de développer et d'automatiser des outils d'analyse et de visualisation de données, ainsi que de participer à des projets de machine learning.\n",
      "\n",
      "Ma connaissance du domaine RH et ma maîtrise des outils informatiques usuels, en particulier SAP, Tableau, Excel, et les outils d’extraction de données (Tableau Prep), me permettront de répondre efficacement aux besoins de votre entreprise. De plus, je suis à l'aise avec les langages de programmation tels que Python et R, et j'ai une bonne connaissance de SQL.\n",
      "\n",
      "Je suis reconnu pour mon sens aigu de la confidentialité et de la discrétion, ainsi que pour ma capacité à gérer les priorités avec une approche méthodologique. Mon esprit d’analyse et de synthèse, couplé à mes compétences en communication et mon orientation client, me permettront de comprendre les besoins de vos équipes métier et de les traduire en indicateurs clés.\n",
      "\n",
      "Je suis également capable d'élaborer et de mettre en place une feuille de route pour le reporting RH, et de collaborer avec la division Informatique pour automatiser les extractions de données et enrichir les sources de données. Je suis à l'aise avec la création de tableaux de bord, de rapports et de visuels clairs et pertinents pour présenter les résultats d’analyse.\n",
      "\n",
      "Enfin, je suis toujours à la recherche d'opportunités d'amélioration continue des processus et des outils en lien avec le reporting de données. Je suis convaincu que mes compétences et mon expérience font de moi un candidat idéal pour ce poste.\n",
      "\n",
      "Je me tiens à votre disposition pour un entretien afin de discuter plus en détail de ma candidature et de vos attentes. Je vous remercie par avance pour l'attention que vous porterez à ma demande et je vous prie d'agréer, Madame, Monsieur, l'expression de mes salutations distinguées.\n"
     ]
    }
   ],
   "source": [
    "with open('data.json', 'r') as file:\n",
    "    data = json.load(file)\n",
    "\n",
    "input = \"liste des compétence à avoir pour le poste de data analyste: \" + responses[0].choices[0].message.content + \" liste des compétence du candidat : \" + str(data)\n",
    "messages1 = [\n",
    "    ChatMessage(role=\"system\", content=\"tu es un secretaire qui écrit un corps de lettre de motivation en croisant la liste des compétences à avoir que l'on te donne, avec la liste des compétences du candidat. Tu ne retournes uniquement que le corps de la lettre de motivation\"),\n",
    "    ChatMessage(role='user', content=input)\n",
    "]\n",
    "response = client.chat(model=model, messages=messages1)\n",
    "print(response.choices[0].message.content)"
   ]
  }
 ],
 "metadata": {
  "kernelspec": {
   "display_name": "Python 3",
   "language": "python",
   "name": "python3"
  },
  "language_info": {
   "codemirror_mode": {
    "name": "ipython",
    "version": 3
   },
   "file_extension": ".py",
   "mimetype": "text/x-python",
   "name": "python",
   "nbconvert_exporter": "python",
   "pygments_lexer": "ipython3",
   "version": "3.12.2"
  }
 },
 "nbformat": 4,
 "nbformat_minor": 2
}
